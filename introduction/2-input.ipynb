{
 "cells": [
  {
   "cell_type": "markdown",
   "metadata": {},
   "source": [
    "# User Inputs"
   ]
  },
  {
   "cell_type": "markdown",
   "metadata": {},
   "source": [
    "### Getting information from the user"
   ]
  },
  {
   "cell_type": "code",
   "execution_count": null,
   "metadata": {},
   "outputs": [],
   "source": [
    "username = input('Please enter your username: ')\n",
    "print(username)\n",
    "\n",
    "password = input('Please enter your password: ')\n",
    "print(password)\n",
    "\n",
    "print(\"User Logged in 😄\")\n"
   ]
  },
  {
   "cell_type": "markdown",
   "metadata": {},
   "source": [
    "### Converting values"
   ]
  },
  {
   "cell_type": "code",
   "execution_count": null,
   "metadata": {},
   "outputs": [],
   "source": [
    "num1 = print('Enter the first number: ')\n",
    "num2 = print('Enter the second number: ')\n",
    "\n",
    "print(num1 + num2)"
   ]
  },
  {
   "cell_type": "markdown",
   "metadata": {},
   "source": [
    "# Comments"
   ]
  },
  {
   "cell_type": "code",
   "execution_count": null,
   "metadata": {},
   "outputs": [],
   "source": [
    "# This is a comment in my code it does nothing\n",
    "# print('Hello world')\n",
    "# print(\"Hello world\")\n",
    "# No output will be displayed!\n"
   ]
  },
  {
   "cell_type": "markdown",
   "metadata": {},
   "source": [
    "Comments document your code so you and other programmers can understand the code"
   ]
  },
  {
   "cell_type": "code",
   "execution_count": null,
   "metadata": {},
   "outputs": [],
   "source": [
    "# Using double quotes for this string because \n",
    "# the string itself contains a single quote\n",
    "print('We are trying out the comments')"
   ]
  }
 ],
 "metadata": {
  "kernelspec": {
   "display_name": "Python 3.10.8 ('.env': venv)",
   "language": "python",
   "name": "python3"
  },
  "language_info": {
   "name": "python",
   "version": "3.10.8"
  },
  "orig_nbformat": 4,
  "vscode": {
   "interpreter": {
    "hash": "0fddab8fb3fa11b6dd59e3522ba49bbd70712c3134b7d69a6485c45e8f035981"
   }
  }
 },
 "nbformat": 4,
 "nbformat_minor": 2
}
