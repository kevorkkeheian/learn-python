{
 "cells": [
  {
   "cell_type": "markdown",
   "metadata": {},
   "source": [
    "# Variables and Data Types\n",
    "- String\n",
    "- Numbers (int, float, complex)\n",
    "- boolean (True, False)\n",
    "- Collections (list, arrays, dictionary) - (tuple, set)"
   ]
  },
  {
   "cell_type": "code",
   "execution_count": null,
   "metadata": {},
   "outputs": [],
   "source": [
    "first_num = input('Enter first number ')\n",
    "second_num = input('Enter second number ')\n",
    "print(int(first_num) + int(second_num))\n",
    "print(float(first_num) + float(second_num))"
   ]
  },
  {
   "cell_type": "markdown",
   "metadata": {},
   "source": [
    "Numeric values are used for math operations and to specify individual rows in lists and arrays"
   ]
  },
  {
   "cell_type": "code",
   "execution_count": null,
   "metadata": {},
   "outputs": [],
   "source": [
    "price = 2\n",
    "tax = 0.2\n",
    "\n",
    "price_with_tax = price + price * tax\n",
    "print(\"price: \" + str(price))\n",
    "print(\"tax: \" + str(tax))\n",
    "print(\"total tax: \" + str(price * tax))\n",
    "print(\"price_with_tax: \" + str(price_with_tax))\n",
    "print(\"price_with_tax: \" + str(round(price_with_tax, 2)))"
   ]
  }
 ],
 "metadata": {
  "kernelspec": {
   "display_name": "Python 3.10.8 ('.env': venv)",
   "language": "python",
   "name": "python3"
  },
  "language_info": {
   "name": "python",
   "version": "3.10.8"
  },
  "orig_nbformat": 4,
  "vscode": {
   "interpreter": {
    "hash": "0fddab8fb3fa11b6dd59e3522ba49bbd70712c3134b7d69a6485c45e8f035981"
   }
  }
 },
 "nbformat": 4,
 "nbformat_minor": 2
}
